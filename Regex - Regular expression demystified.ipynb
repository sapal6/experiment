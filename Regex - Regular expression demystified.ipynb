{
 "cells": [
  {
   "cell_type": "markdown",
   "metadata": {},
   "source": [
    "Regular expressions or REGEX can be defined as a sequence of characters that can be used to define a pattern. In other other words regular expressions can also be defined as a shorthand representation of any pattern that you are trying to serach in a string of characters, text file , excel sheet etc. While working with data science problems many times you may need to extract specific chunks of data from already exisiting sequence of strings or from a text file or a dataframe. In this tutorial you will what Regex are & how to use it in your datascience pipeline."
   ]
  },
  {
   "cell_type": "markdown",
   "metadata": {},
   "source": [
    "In this tutorial you will cover the following topics :"
   ]
  },
  {
   "cell_type": "markdown",
   "metadata": {},
   "source": [
    "* A brief <font color='dodgerblue'>history of Regular expression</font> - Before starting with learning about how to use Regex, you'll get to know how it all started & how the concept of regular expression or Regex for short, came into being\n",
    "\n",
    "* You will start with learning about the different <font color='dodgerblue'>Regex character classes</font>  - You will learn about the different Regex xharacter classes and how to use them and even build your own character classes using python\n",
    "\n",
    "* Next you will learn about <font color='dodgerblue'>text mining</font> using Regex in python - Here you will learn how to put together the basic character classes and/or custom character classes to build regular expressions to mine specific chunks of information from texts/strings using python\n",
    "\n",
    "* Finally you will see how regular expressions can be used to mine data from a <font color='dodgerblue'>dataframe using pandas</font> - You'll use the above knowledge about Regular expressions to extract specific data"
   ]
  },
  {
   "cell_type": "markdown",
   "metadata": {},
   "source": [
    "## A brief history of Regular Expressions"
   ]
  },
  {
   "cell_type": "code",
   "execution_count": null,
   "metadata": {
    "collapsed": true
   },
   "outputs": [],
   "source": []
  }
 ],
 "metadata": {
  "kernelspec": {
   "display_name": "Python 3",
   "language": "python",
   "name": "python3"
  },
  "language_info": {
   "codemirror_mode": {
    "name": "ipython",
    "version": 3
   },
   "file_extension": ".py",
   "mimetype": "text/x-python",
   "name": "python",
   "nbconvert_exporter": "python",
   "pygments_lexer": "ipython3",
   "version": "3.6.1"
  }
 },
 "nbformat": 4,
 "nbformat_minor": 2
}
