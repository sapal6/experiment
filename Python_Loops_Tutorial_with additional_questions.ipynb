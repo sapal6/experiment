{
 "cells": [
  {
   "cell_type": "markdown",
   "metadata": {},
   "source": [
    "# Python Loops Tutorial\n",
    "\n",
    "Loops are important in Python or in any other programming language as they help you to execute a block of code repeatedly. You will often come face to face with situations where you would need to use a piece of code over and over but you don't want to write the same line of code multiple times. These are the kind of situations where loops comes to the rescue."
   ]
  },
  {
   "cell_type": "markdown",
   "metadata": {},
   "source": [
    "In this Python loops tutorial you will cover the following topics :\n",
    "\n",
    "* The Python <a href=\"#whileloop\">while loop</a>: you'll learn how you can construct and use a while loop in data science applications. You'll do this by going over some interactive coding challenges.  \n",
    "* Next, you'll move on to the <a href=\"#forloop\">for loop</a>: once again, you'll learn how you can construct and use a for loop in a real-life context. \n",
    "* You'll also learn the difference between using a <a href=\"#whilefor\">while loop and a for loop</a>. \n",
    "* Also the topic of <a href=\"#nestedloops\">nested loops</a>\n",
    "* After, you'll see how you can use the <a href=\"#breakcontinue\">`break` and `continue` keywords</a>.\n",
    "* <a href=\"#xrange\">`xrange()` vs `range()`</a>"
   ]
  },
  {
   "cell_type": "markdown",
   "metadata": {},
   "source": [
    "<a id=\"whileloop\"></a>\n",
    "## While Loop"
   ]
  },
  {
   "cell_type": "markdown",
   "metadata": {},
   "source": [
    "The while loop is one of the first loops that you'll probably encounter when you're starting to learn how to program. It is arguably also one of the most intuitive ones to understand: if you think of the name of this loop, you will quickly understand that the word \"while\" has got to do something with \"interval\" or a \"period of time\". As you already know by now, the word \"loop\" refers to a piece of code that you execute repeatedly.\n",
    " \n",
    "With all of this in mind, you can easily understand the following definition of the while loop:\n",
    "> A while loop is a programming concept that, when it's implemented, executes a piece of code over and over again while a given condition still holds true\n",
    "\n",
    "The above definition also highlights the three components that you need to construct the while loop in Python:\n",
    "* The `while` keyword;\n",
    "* A condition that transates to either `True` or `False`; And\n",
    "* A block of code that you want to execute repeatedly\n",
    "\n",
    "That's all it takes! "
   ]
  },
  {
   "cell_type": "markdown",
   "metadata": {},
   "source": [
    "### How To Make A While Loop in Python\n",
    "\n",
    "Now that you know what you need to construct a while loop, all that is left to do now is to look at a real-life example where the while loop is used before you start making exercises on your own! Consider the following example:"
   ]
  },
  {
   "cell_type": "code",
   "execution_count": null,
   "metadata": {
    "collapsed": true
   },
   "outputs": [],
   "source": [
    "# Take user input\n",
    "number = 2  \n",
    "\n",
    "# Condition of the while loop\n",
    "while number < 5 :  \n",
    "    print(\"Thank you\")\n",
    "    # Increment the value of the variable \"number by 1\"\n",
    "    number = number+1  "
   ]
  },
  {
   "cell_type": "markdown",
   "metadata": {},
   "source": [
    "The code example above is a very simple while loop: if you think about it, the three components about which you read before are all present: the `while` keyword, followed by a condition that translates to either `True` or `False` (`number < 5`) and a block of code that you want to execute repeatedly:\n",
    "\n",
    "```\n",
    "print(\"Thank you\")\n",
    "number = number + 1\n",
    "```\n",
    "\n",
    "If you go into detail in the above code, you see that there is a variable `number` in which you store an integer `2`. Since the value in `number` is smaller than 5, you print out `\"Thank you\"` and increase the value of `number` with one. While the value in `number` stays smaller than 5, you continue to execute the two lines of code that are contained within the while loop:\n",
    "\n",
    "```\n",
    "\"Thank you\"\n",
    "\"Thank you\"\n",
    "```\n",
    "\n",
    "You print out \"Thank you\" two more times before the value of `number` is equal to `5` and the condition doesn't evaluate to `True` any more. Because the condition now evaluates to `False`, you will exit the while loop and continue your program if it contains any more code. In this case, there isn't any more code so your program will stop."
   ]
  },
  {
   "cell_type": "markdown",
   "metadata": {},
   "source": [
    "The above example is a bit basic, you can also include conditionals, or, in other words, an if condition, to make it even more customized. Take a look at the following example:"
   ]
  },
  {
   "cell_type": "code",
   "execution_count": null,
   "metadata": {
    "collapsed": true
   },
   "outputs": [],
   "source": [
    "number = 2  # take user input\n",
    "\n",
    "while number < 5 :  # condition of the while loop\n",
    "    \n",
    "    if number%2 == 0:  # finding the mod of the number 2\n",
    "        print(\"The number \"+str(number)+\" is even\")\n",
    "    else:\n",
    "        print(\"The number \"+str(number)+\" is odd\")\n",
    "    \n",
    "    number = number+1  # increment the value of the variable \"number by 1\""
   ]
  },
  {
   "cell_type": "markdown",
   "metadata": {},
   "source": [
    "<!-- one exercise where reader needs to build his/her own while loop ---> "
   ]
  },
  {
   "cell_type": "markdown",
   "metadata": {},
   "source": [
    "Now, let's practice!\n",
    "\n",
    "Write a function `collatz()` which lets the user input an integer in a variable named `number`. If number is even, then it should print the result of `number/2`. If number is odd, then `collatz()` should print and return `3 * number + 1`. The program should keep calling the function `collatz()` on the `number` until it returns a `1`.\n",
    "\n",
    "> This is actually an implementation of collatz sequence, which in short is a mathematical problem where you choose a number and you keep doing the above calculations until you arrive at a result of 1."
   ]
  },
  {
   "cell_type": "code",
   "execution_count": null,
   "metadata": {},
   "outputs": [],
   "source": [
    "# Solution\n",
    "\n",
    "def collatz(number):\n",
    "\n",
    "    if number % 2 == 0:\n",
    "        print(number // 2)\n",
    "        return number // 2\n",
    "\n",
    "    elif number % 2 == 1:\n",
    "        result = 3 * number + 1\n",
    "        print(result)\n",
    "        return result\n",
    "\n",
    "n = input(\"Give me a number: \")\n",
    "while n != 1:\n",
    "    n = collatz(int(n))"
   ]
  },
  {
   "cell_type": "markdown",
   "metadata": {},
   "source": [
    "<a id=\"forloop\"></a>\n",
    "## For Loop"
   ]
  },
  {
   "cell_type": "markdown",
   "metadata": {},
   "source": [
    "You can tackle the for loop in the same way as the while loop. As you probably would have expected, the \"for\" component in \"for loop\" refers to something that you do for a certain number of times. \n",
    "\n",
    "If you keep all the above in mind, you can easily define the for loop as follows:\n",
    "> A for loop is a programming concept that, when it's implemented, executes a piece of code over and over again \"for\" a certain number of times, based on a sequence. \n",
    "\n",
    "In contrast to the while loop, there isn't any condition actively involved - you just execute a piece of code repeatedly for a number of times. In other words, while the while loop keeps on executing the block of code contained within it only till the condition is `True`, the for loop executes the code contained within it only for a specific number of times. This \"number of times\" is determined by a sequence or an ordered list of things. \n",
    "\n",
    "You'll learn more about the difference between while and for loops in a bit, but for now, concentrate on the following pieces that you need in order to create a for loop:"
   ]
  },
  {
   "cell_type": "markdown",
   "metadata": {},
   "source": [
    "* The `for` keyword\n",
    "* A variable\n",
    "* The `in` keyword\n",
    "* The `range()` function, which is an built-in function in the Python library to create a sequence of numbers\n",
    "* The code that you want to execute repeatedly"
   ]
  },
  {
   "cell_type": "markdown",
   "metadata": {},
   "source": [
    "### For Loops in Python"
   ]
  },
  {
   "cell_type": "code",
   "execution_count": null,
   "metadata": {
    "collapsed": true
   },
   "outputs": [],
   "source": [
    "for number in range(5) :  # to print the below statement 5 times\n",
    "    print(\"Thank you\")"
   ]
  },
  {
   "cell_type": "markdown",
   "metadata": {},
   "source": [
    "As you can see, the components that you saw in the above section return in this small example of a for loop in Python: the `for` keyword, the variable `number`, the `in` keyword, the `range()` function and the code that you want to execute multiple times, `print(\"Thank you\")`. \n",
    "\n",
    "That isn't so hard, right?\n",
    "\n",
    "Let's consider another example of a for loop, where you make use of two variables to define your control flow:"
   ]
  },
  {
   "cell_type": "code",
   "execution_count": 8,
   "metadata": {},
   "outputs": [
    {
     "name": "stdout",
     "output_type": "stream",
     "text": [
      "Current language: R\n",
      "Current language: Python\n",
      "Current language: Scala\n",
      "Current language: Java\n",
      "Current language: Julia\n"
     ]
    }
   ],
   "source": [
    "languages = ['R', 'Python',  'Scala', 'Java', 'Julia']\n",
    "\n",
    "for index in range(len(languages)):\n",
    "   print('Current language:', languages[index])"
   ]
  },
  {
   "cell_type": "markdown",
   "metadata": {},
   "source": [
    "As you can see, you start off the loop with the `for` keyword. Next, you make use of a variables `index` and `languages`, the `in` keyword, and the `range()` function to create a sequence of numbers. Additionally, you see that you also use the `len()` function in this case, as the `languages` list is not numerical. The piece of code that you want to execute repeatedly is a print statement, namely, `print('Current language :', languages[index])`.\n",
    "\n",
    "In the loop above, you mean to express that for every index in the range `len(languages)`, you want to print the the data science programming language. Now, `len(languages)` is 5, so the statement could also be rewritten as:"
   ]
  },
  {
   "cell_type": "code",
   "execution_count": 7,
   "metadata": {},
   "outputs": [
    {
     "name": "stdout",
     "output_type": "stream",
     "text": [
      "Current language: R\n",
      "Current language: Python\n",
      "Current language: Scala\n",
      "Current language: Java\n",
      "Current language: Julia\n"
     ]
    }
   ],
   "source": [
    "for index in range(5):\n",
    "    print('Current language:', languages[index])"
   ]
  },
  {
   "cell_type": "markdown",
   "metadata": {},
   "source": [
    "And this once again gives you the same result!"
   ]
  },
  {
   "cell_type": "markdown",
   "metadata": {},
   "source": [
    "<a id=\"whilefor\"></a>\n",
    "## While Loops versus For Loops in Python"
   ]
  },
  {
   "cell_type": "markdown",
   "metadata": {},
   "source": [
    "Let's revisit the very first while loop example once again to determine what now exactly are the differences between while and for loops. You already read above that the difference lies in the condition that is or is not involved, but how does this reflect in the code and how can you maybe switch between the two?"
   ]
  },
  {
   "cell_type": "code",
   "execution_count": null,
   "metadata": {
    "collapsed": true
   },
   "outputs": [],
   "source": [
    "number = 2  # take user input\n",
    "\n",
    "while number < 5 :\n",
    "    print(\"Thank you\")\n",
    "    number = number+1  # increment the value of the variable \"number by 1\""
   ]
  },
  {
   "cell_type": "markdown",
   "metadata": {},
   "source": [
    "You can use for loop to print the statement \"Thank you\" in a more controlled manner:"
   ]
  },
  {
   "cell_type": "code",
   "execution_count": null,
   "metadata": {
    "collapsed": true
   },
   "outputs": [],
   "source": [
    "for number in range(3) :  # to print the below statement 3 times\n",
    "    print(\"Thank you\")"
   ]
  },
  {
   "cell_type": "markdown",
   "metadata": {},
   "source": [
    "See how easy it was to convert the while loop into an equivalent for loop? \n",
    "\n",
    "How does it work, you ask? Well it's simple. \n",
    "\n",
    "In a for loop, the integer mentioned inside the range function is the *range* or the number of times the control needs to loop and execute the code in the for loop's clause."
   ]
  },
  {
   "cell_type": "markdown",
   "metadata": {},
   "source": [
    "> The `range()` function's count starts from 0 and not from 1. That means that, in the above example, the count should be like 0,1,2 and not 1,2,3. That's how number counting in a computer's memory works. So, while designing a for loop, always keep in mind that you have to consider the count of range from 0 and not from 1.\n",
    "\n",
    "**Tip**: this is the same for lists in Python, for example. If you'd like to know more about Python lists, consider checking out DataCamp's [18 Most Common Python List Questions](https://www.datacamp.com/community/tutorials/18-most-common-python-list-questions-learn-python) tutorial. "
   ]
  },
  {
   "cell_type": "markdown",
   "metadata": {},
   "source": [
    "Now, there is another interesting difference between a for loop and a while loop. A for loop is faster than a while loop. To understand this you have to look into the example below."
   ]
  },
  {
   "cell_type": "code",
   "execution_count": null,
   "metadata": {
    "collapsed": true
   },
   "outputs": [],
   "source": [
    "# A for loop example\n",
    "for number in range(10000) :  # to execute the below code 10000 times\n",
    "    sum = 3+4\n",
    "    print(sum)\n",
    "  \n",
    "\n",
    "# A while loop example\n",
    "i = 10000\n",
    "while i>10000:\n",
    "    sum = 3+4\n",
    "    print(sum)  "
   ]
  },
  {
   "cell_type": "markdown",
   "metadata": {},
   "source": [
    "You will notice that in the above code we actually have two loops and in each loop we have around 10000 iterations, Both of these loops look the same until you look behind the scenes and understand how these two different loops work.\n",
    "\n",
    ">All the python codes are compiled with a **C compiler** , which means that the code that you see above is first broken down into byte-codes and then it's processed by the underlying C compiler.\n",
    "\n",
    "When the execution of the for loop in the above example starts, the python interpretor talks to the underlying C compiler and then it creates a list object of size 10000 and then it calls an iterator to touch upon the index on each of the 10000 items in the list. The execution of the while loop on the other hand dosen't create any list object infact the underlying C compiler calls the boolean comparison operator for the condition **i>10000** 9999 times.\n",
    "\n",
    "Since iterating over an already created list object with 10000 elements is easier for the compiler than performing a boolean operation repeatedly for 9999 times, so the time performance of a for loop is more than that of a while loop.\n"
   ]
  },
  {
   "cell_type": "markdown",
   "metadata": {},
   "source": [
    "With the difference between while and for loops clear in mind, it's time to write a program which can print the Fibonacci series till the Fibonacci number 55. The program should stop only when the number 55 is reached. \n",
    "\n",
    "**Tip**: you can use either use a while loop or a For loop to solve this. First try out the while loop!"
   ]
  },
  {
   "cell_type": "code",
   "execution_count": null,
   "metadata": {},
   "outputs": [],
   "source": [
    "# Solution\n",
    "\n",
    "# fibonacci number till which user wants to print\n",
    "fib_no = 55\n",
    "\n",
    "\n",
    "# first two numbers\n",
    "first_no = 0\n",
    "second_no = 1\n",
    "count = 0\n",
    "\n",
    "print(\"Fibonacci sequence upto\",fib_no,\":\")\n",
    "while first_no <= fib_no:\n",
    "       print(first_no)\n",
    "       nth = first_no + second_no\n",
    "       # update values\n",
    "       first_no = second_no\n",
    "       second_no = nth\n",
    "       count += 1"
   ]
  },
  {
   "cell_type": "markdown",
   "metadata": {},
   "source": [
    "Now try out the for loop! "
   ]
  },
  {
   "cell_type": "code",
   "execution_count": null,
   "metadata": {
    "collapsed": true
   },
   "outputs": [],
   "source": [
    "# Solution"
   ]
  },
  {
   "cell_type": "markdown",
   "metadata": {},
   "source": [
    "<!-- could we also talk about performance differences here? ---> "
   ]
  },
  {
   "cell_type": "markdown",
   "metadata": {},
   "source": [
    "<a id=\"nestedloops\"></a>\n",
    "## Nested Loops"
   ]
  },
  {
   "cell_type": "markdown",
   "metadata": {},
   "source": [
    "As you can notice in an example above, there is an if-else condition inside the while loop which enables you to introduce further conditions in your code. \n",
    "\n",
    "Hold on! \n",
    "\n",
    "This is not the only way that you can customize your loop. You can also include some more while loop inside you existing code and this is known as a nested loop. You can modify the above example to include another while loop like below:"
   ]
  },
  {
   "cell_type": "code",
   "execution_count": null,
   "metadata": {
    "collapsed": true
   },
   "outputs": [],
   "source": [
    "number = 2 # take user input\n",
    "\n",
    "while number < 5 :  # condition of the while loop\n",
    "    \n",
    "    while number % 2 == 0: \n",
    "        print(\"The number \"+ str(number)+\" is even\")\n"
   ]
  },
  {
   "cell_type": "markdown",
   "metadata": {},
   "source": [
    "In the above example there is another while loop which is \"nested\" inside the outer loop, this inner loop puts in another check to see if the `number % (mod) 2` is `0`. \n",
    "\n",
    "In other words, it checks if the number is even and then it prints the statement \"The number is even\". \n",
    "\n",
    "But there's a catch: if you look closely, you can see that like the previous code the `number=number+1` statement is missing this time. Since you aren't incrementing the variable number anywhere, the value of the variable remains the same every time and the code enters an infinite loop. That means that, once it enters the loop, it never leaves and prints the statement an infinite number of times because the variable `number` will always be set to 2. This number is, of course, less than 5 and an even number. "
   ]
  },
  {
   "cell_type": "markdown",
   "metadata": {},
   "source": [
    "Let's now take a look at what a nested for loop would look like:"
   ]
  },
  {
   "cell_type": "code",
   "execution_count": 9,
   "metadata": {},
   "outputs": [
    {
     "name": "stdout",
     "output_type": "stream",
     "text": [
      "-------------------------------------------\n",
      "I am outer loop iteration 0\n",
      "****************************\n",
      "I am inner loop iteration 0\n",
      "****************************\n",
      "I am inner loop iteration 1\n",
      "****************************\n",
      "I am inner loop iteration 2\n",
      "****************************\n",
      "I am inner loop iteration 3\n",
      "****************************\n",
      "I am inner loop iteration 4\n",
      "-------------------------------------------\n",
      "I am outer loop iteration 1\n",
      "****************************\n",
      "I am inner loop iteration 0\n",
      "****************************\n",
      "I am inner loop iteration 1\n",
      "****************************\n",
      "I am inner loop iteration 2\n",
      "****************************\n",
      "I am inner loop iteration 3\n",
      "****************************\n",
      "I am inner loop iteration 4\n",
      "-------------------------------------------\n",
      "I am outer loop iteration 2\n",
      "****************************\n",
      "I am inner loop iteration 0\n",
      "****************************\n",
      "I am inner loop iteration 1\n",
      "****************************\n",
      "I am inner loop iteration 2\n",
      "****************************\n",
      "I am inner loop iteration 3\n",
      "****************************\n",
      "I am inner loop iteration 4\n"
     ]
    }
   ],
   "source": [
    "for number in range(3) :  # to print the below statement 3 times\n",
    "    print(\"-------------------------------------------\")\n",
    "    print(\"I am outer loop iteration \"+str(number))\n",
    "    for another_number in range(5):  # inner loop\n",
    "        print(\"****************************\")\n",
    "        print(\"I am inner loop iteration \"+str(another_number))"
   ]
  },
  {
   "cell_type": "markdown",
   "metadata": {},
   "source": [
    "The above code is a modified version of the first for loop example. Note how a second for loop is used inside the outer loop. \n",
    "\n",
    "Go ahead and execute the code. \n",
    "\n",
    "You will find out that the control enters the first for loop and the value of the variable `number` is initialized as 0. The first print statement is printed, and then control enters the second for loop, where the value of the variable `another_number` is initialized to `0`. The first print statement in the second for loop is printed once. \n",
    "\n",
    "Now, the control returns to the inner for loop once again and the value of `another_number` is again initialized to the next integer followed by printing the statement inside the `print()` function. \n",
    "\n",
    "The aforementioned process continues until the control has traversed through the end of the `range()` function, which is 5 in this case, and then the control returns back to the outermost loop, initializes the variable `number` to the next integer, prints the statement inside the `print()` function, visits the inner loop and then repeats all of the above steps until the range function is traversed. \n",
    "\n",
    "This journey of the control traveling from the outermost loop, traversing of the inner loop and then back again to the outer for loop continues until the control has covered the entire range, which is 3 times in your case."
   ]
  },
  {
   "attachments": {
    "image.png": {
     "image/png": "[encoded data removed]"
    }
   },
   "cell_type": "markdown",
   "metadata": {},
   "source": [
    "Now that you have read some explanations on nested loops, it's time to get started yourself! Write a Python program to construct the following pattern, using a nested for loop: \n",
    "![image.png](attachment:image.png)"
   ]
  },
  {
   "cell_type": "code",
   "execution_count": null,
   "metadata": {
    "collapsed": true
   },
   "outputs": [],
   "source": [
    "# Solution"
   ]
  },
  {
   "cell_type": "markdown",
   "metadata": {},
   "source": [
    "<a id=\"breakcontinue\"></a>\n",
    "## `break` and `continue` Keywords: Creating Infinite Loops\n",
    "\n",
    "You can use `break` and `continue` in any loop you create. These keywords aren't restricted to breaking intentional infinite loops, but they should be used carefully. Both keywords make it harder for others -including yourself in a couple of months when you look back to your code- to understand the control flow in the loop and where the condition ends. Additionally, you don't *need* to use the `break` and `continue` keywords: as you have seen up until now, you were doing perfectly fine without them! \n",
    "\n",
    "However, in some cases, it can be more clear to write intentional infinite loops rather than the traditional for and while loops that you have seen up until now. Of course, in those cases the use of these keywords is encouraged! "
   ]
  },
  {
   "cell_type": "markdown",
   "metadata": {},
   "source": [
    "### Breaking and Continuing While Loops in Python\n",
    "Fortunately, there is a way to break out of the above situation of infinite loop and that is using the `break` keyword."
   ]
  },
  {
   "cell_type": "code",
   "execution_count": null,
   "metadata": {
    "collapsed": true
   },
   "outputs": [],
   "source": [
    "number = 2 # take user input\n",
    "\n",
    "while number < 5 :  # condition of the while loop\n",
    "    \n",
    "    while number % 2 == 0:  # condition of the while loop\n",
    "       \n",
    "        print(\"The number \"+str(number)+\" is even\")\n",
    "        break\n",
    "    number+=1"
   ]
  },
  {
   "cell_type": "markdown",
   "metadata": {},
   "source": [
    "When you run the above code it doesn't go inside an infinite loop anymore. \n",
    "\n",
    "\"What is this sorcery!\" you scream. - I say relax, it's no sorcery. \n",
    "\n",
    "What happens is that when the control encounters the `break` keyword it understands that it has to exit the loop (inner loop in this case) and executes the next line of code. It therefore breaks out of the inner while loop and proceeds to the outer loop and continues doing it's usual stuff until the condition in the outer while loop holds true. "
   ]
  },
  {
   "cell_type": "markdown",
   "metadata": {},
   "source": [
    "> You should consider the fact that a line of code must exists after the `break` keyword or else it won't have any effect. Try to remove the line of code after the `break` keyword in the above example and then execute the code."
   ]
  },
  {
   "cell_type": "markdown",
   "metadata": {},
   "source": [
    "What if you sneak in the `continue` keyword after the `break` statement? You can follow the code below:"
   ]
  },
  {
   "cell_type": "code",
   "execution_count": null,
   "metadata": {
    "collapsed": true
   },
   "outputs": [],
   "source": [
    "number = 2 # take user input\n",
    "\n",
    "while number < 5 :\n",
    "    \n",
    "    while number % 2 == 0: \n",
    "       \n",
    "        print(\"The number \"+str(number)+\" is even\")\n",
    "        break\n",
    "    continue\n",
    "    number+=1"
   ]
  },
  {
   "cell_type": "markdown",
   "metadata": {},
   "source": [
    "The above code is a slightly modified version of the `break` keyword example. \n",
    "\n",
    "When you run the above code you will again encounter an infinite loop. Before you start pulling your hair in frustration, take a closer look. You will notice that there's a `continue` keyword after the break. What the `continue` keyword does is that it transfers the control back to the outermost loop even before the variable `number` is incremented and because of this the code goes into an infinite loop."
   ]
  },
  {
   "cell_type": "markdown",
   "metadata": {},
   "source": [
    "### Breaking and Continuing For Loops\n",
    "\n",
    "What if you did not want to execute the inner for loop in the above example for the entire range? You can use a `break` statement in a similar way that you have done in the case of the while loop. "
   ]
  },
  {
   "cell_type": "code",
   "execution_count": null,
   "metadata": {
    "collapsed": true
   },
   "outputs": [],
   "source": [
    "for number in range(3) :  # to print the below statement 3 times\n",
    "    print(\"-------------------------------------------\")\n",
    "    print(\"I am outer loop iteration \"+str(number))\n",
    "    for another_number in range(3):\n",
    "        print(\"****************************\")\n",
    "        print(\"I am inner loop iteration \"+str(another_number))\n",
    "        break"
   ]
  },
  {
   "cell_type": "markdown",
   "metadata": {},
   "source": [
    "In the above example, the `break` keyword after the inner loop instructs the control to break away from the inner loop, after which the control travels back to the outer loop."
   ]
  },
  {
   "cell_type": "markdown",
   "metadata": {},
   "source": [
    "Run the below code example:"
   ]
  },
  {
   "cell_type": "code",
   "execution_count": 10,
   "metadata": {},
   "outputs": [
    {
     "name": "stdout",
     "output_type": "stream",
     "text": [
      "-------------------------------------------\n",
      "I am outer loop iteration 0\n",
      "-------------------------------------------\n",
      "I am outer loop iteration 1\n",
      "-------------------------------------------\n",
      "I am outer loop iteration 2\n"
     ]
    }
   ],
   "source": [
    "for number in range(3) :  # to print the below statement 3 times\n",
    "    print(\"-------------------------------------------\")\n",
    "    print(\"I am outer loop iteration \"+str(number))\n",
    "    continue\n",
    "    for another_number in range(3):\n",
    "        print(\"****************************\")\n",
    "        print(\"I am inner loop iteration \"+str(another_number))\n",
    "        break"
   ]
  },
  {
   "cell_type": "markdown",
   "metadata": {},
   "source": [
    "In the above code only the outermost loop is executed and the control doesn't even touch the inner loop. \n",
    "\n",
    "\"Why?\" you ask. \n",
    "\n",
    "Take a closer look at the code. There's a `continue` keyword just after the second print statement in the outermost loop. What it does is that it instructs the control to jump back to the outer for loop and start over again and that's why the control never touches the inner loop."
   ]
  },
  {
   "cell_type": "markdown",
   "metadata": {},
   "source": [
    ">Unlike the while loop you don't need a piece of code after the `break` keyword in the for loop. A break loop alone will work just fine inside a for loop. "
   ]
  },
  {
   "cell_type": "markdown",
   "metadata": {},
   "source": [
    "<a id=\"xrange\"></a>\n",
    "## `range()` versus `xrange()`"
   ]
  },
  {
   "cell_type": "markdown",
   "metadata": {},
   "source": [
    "There's another way to use the `range()` function. Look into the below code:"
   ]
  },
  {
   "cell_type": "code",
   "execution_count": null,
   "metadata": {
    "collapsed": true
   },
   "outputs": [],
   "source": [
    "for number in range(5,10,2) :  # to print the below statement 3 times\n",
    "    print(\"I am number : \"+str(number))"
   ]
  },
  {
   "cell_type": "code",
   "execution_count": null,
   "metadata": {
    "collapsed": true
   },
   "outputs": [],
   "source": [
    "I am number : 5\n",
    "I am number : 7\n",
    "I am number : 9"
   ]
  },
  {
   "cell_type": "markdown",
   "metadata": {},
   "source": [
    "By running the code above, you will see how the variable `number`'s value is skipped by a factor of 2, and that's because of the parameters in the `range()` function. \n",
    "\n",
    "The first parameter in this function is the start parameter. That is the point from where the control starts counting. The second parameter is the stop parameter which is the point where the control has to stop and the last parameter is the step function, which defines the factor by which the control has to jump while counting. \n",
    "\n",
    "So, in the above case, the control start from 5 then it traverses the loop till 9 while adding 2 during every count. This means 5, 5+2=7, 7+2=9."
   ]
  },
  {
   "cell_type": "markdown",
   "metadata": {},
   "source": [
    "You have learned how the `range()` function is used to define the number of times your code has to loop. Now, in Python 2.x, you'll also find another way to do this and that's with the `xrange()` function. Run the below code:"
   ]
  },
  {
   "cell_type": "code",
   "execution_count": null,
   "metadata": {
    "collapsed": true
   },
   "outputs": [],
   "source": [
    "for number in xrange(10) :  # to print the below statement 3 times\n",
    "    print(\"I am number : \"+str(number))"
   ]
  },
  {
   "cell_type": "code",
   "execution_count": null,
   "metadata": {
    "collapsed": true
   },
   "outputs": [],
   "source": [
    "I am number : 0\n",
    "I am number : 1\n",
    "I am number : 2\n",
    "I am number : 3\n",
    "I am number : 4\n",
    "I am number : 5\n",
    "I am number : 6\n",
    "I am number : 7\n",
    "I am number : 8\n",
    "I am number : 9"
   ]
  },
  {
   "cell_type": "markdown",
   "metadata": {},
   "source": [
    "What difference did you see in the output of the above code vs the output of the code without the `xrange()` function? No difference? \n",
    "\n",
    "That's right. You won't see any difference in the output of the code. \n",
    "\n",
    "So why should you use the `xrange()` function? You'll get to this a little later on the tutorial. First run the code below:"
   ]
  },
  {
   "cell_type": "code",
   "execution_count": 3,
   "metadata": {},
   "outputs": [
    {
     "name": "stdout",
     "output_type": "stream",
     "text": [
      "range(0, 10)\n"
     ]
    }
   ],
   "source": [
    "print(xrange(10))\n",
    "print(range(10))"
   ]
  },
  {
   "cell_type": "code",
   "execution_count": null,
   "metadata": {
    "collapsed": true
   },
   "outputs": [],
   "source": [
    "xrange(10)\n",
    "[0, 1, 2, 3, 4, 5, 6, 7, 8, 9]"
   ]
  },
  {
   "cell_type": "markdown",
   "metadata": {},
   "source": [
    "You can see that in the output of the above code, there is a difference in the output of both the print statements. In the print statement, which contains the `xrange()` function, you get the `xrange()` function object printed. This is different in the print statement that has the `range()` function: there, you get a list of integers from 0 until 9. \n",
    "\n",
    "Now, this is exactly what the difference between the `range()` function and the `xrange()` function is. \n",
    "\n",
    "When you define the `range()` function, a list of the entire range is stored in the RAM and presented to you. However, when you define the `xrange()` function, a list is not stored in the memory. Instead, the `xrange()` function generates integers in the entire range when you need it. This way, the `xrange()` function makes helps in conserving memory in resource-starved system."
   ]
  },
  {
   "cell_type": "markdown",
   "metadata": {},
   "source": [
    ">If you try to use the `range()` function in python 3.x then you will get `NameError: name 'xrange' is not defined` error. That's because in Python 3.x, the `xrange()` function is renamed as `range()`."
   ]
  },
  {
   "cell_type": "markdown",
   "metadata": {},
   "source": [
    "## Hone Your Python Skills!\n",
    "\n",
    "Now that you have learned how to use loops in Python, go ahead and practice. The more you practice, the more you can learn different ways to implement loops in your code."
   ]
  }
 ],
 "metadata": {
  "kernelspec": {
   "display_name": "Python 3",
   "language": "python",
   "name": "python3"
  },
  "language_info": {
   "codemirror_mode": {
    "name": "ipython",
    "version": 3
   },
   "file_extension": ".py",
   "mimetype": "text/x-python",
   "name": "python",
   "nbconvert_exporter": "python",
   "pygments_lexer": "ipython3",
   "version": "3.6.1"
  }
 },
 "nbformat": 4,
 "nbformat_minor": 2
}
